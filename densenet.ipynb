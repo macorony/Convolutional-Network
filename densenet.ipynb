{
  "nbformat": 4,
  "nbformat_minor": 0,
  "metadata": {
    "colab": {
      "provenance": [],
      "authorship_tag": "ABX9TyMHw0P2cB2IkDX0cZX9bFva",
      "include_colab_link": true
    },
    "kernelspec": {
      "name": "python3",
      "display_name": "Python 3"
    },
    "language_info": {
      "name": "python"
    }
  },
  "cells": [
    {
      "cell_type": "markdown",
      "metadata": {
        "id": "view-in-github",
        "colab_type": "text"
      },
      "source": [
        "<a href=\"https://colab.research.google.com/github/macorony/Convolutional-Network/blob/main/densenet.ipynb\" target=\"_parent\"><img src=\"https://colab.research.google.com/assets/colab-badge.svg\" alt=\"Open In Colab\"/></a>"
      ]
    },
    {
      "cell_type": "markdown",
      "source": [
        "## Understanding DenseNet: Architecture and Advantages\n",
        "DenseNet, short for Dense Convolutional Network, is a CNN architecture known for its unique connectivity pattern, which aims to maximize information flow between layers. Unlike traditional architectures where each layer connects only to its subsequent layer, DenseNet directly connects each layer to every other layer in a feed-forward fashion.\n",
        "\n",
        "## Dense Connectivity: Fostering Feature Reuse and Information Flow\n",
        "\n",
        "1. In a DenseNet with L layers, there are L(L+1)/2 direct connections. Each layer receives the feature maps from all preceding layers as input, and its own feature maps are passed as input to all subsequent layers.\n",
        "\n",
        "2. This dense connectivity offers several advantages:\n",
        "  *  Alleviates the vanishing gradient problem: Direct connections to the loss function and original input signal provide each layer with clear gradients, facilitating training of deeper networks. This is similar to the concept of \"deep supervision\".\n",
        "  \n",
        "  *  Strengthens feature propagation: Information flows more efficiently throughout the network due to the short paths created by dense connections.\n",
        "  \n",
        "  *  Encourages feature reuse: Layers have access to features learned at different levels of the network, promoting the learning of compact and efficient representations.\n",
        "\n",
        "## Structure of DenseNet: Dense Blocks and Transition Layers\n",
        "DenseNets are typically organized into dense blocks interconnected by transition layers.\n",
        "* Dense Block: Within a dense block, layers are densely connected as described above. Each layer adds a small set of feature maps (k feature maps, where k is the growth rate) to the network's \"collective knowledge\".\n",
        "\n",
        "* Transition Layer: Transition layers are placed between dense blocks to change feature map sizes via convolution and pooling. They help to control the network's complexity and reduce the number of feature maps.\n",
        "  * Compression: To further reduce the number of parameters, DenseNet-C employs a compression factor (θ) in transition layers to reduce the number of output feature maps.\n",
        "  \n",
        "  * Bottleneck Layers: DenseNet-BC introduces 1x1 convolutions (bottleneck layers) before each 3x3 convolution in dense blocks to further reduce computational complexity.\n",
        "\n",
        "## Key Features and Design Choices:\n",
        "* Growth rate (k): This hyperparameter controls the number of feature maps added by each layer. A smaller growth rate results in narrower layers, leading to a more compact model.\n",
        "\n",
        "* Bottleneck and Compression: These techniques aim to improve model compactness and efficiency. DenseNet-BC combines both bottleneck layers and compression in transition layers.\n",
        "\n",
        "* Composite Function: Each layer's transformation in DenseNet often consists of batch normalization, ReLU activation, and a 3x3 convolution.\n",
        "Performance and Efficiency:\n",
        "\n",
        "* Experiments show that DenseNets can achieve high accuracy with fewer parameters compared to other architectures, particularly ResNets.\n",
        "\n",
        "* The dense connectivity pattern enables efficient feature reuse and information flow, contributing to better performance and easier training.\n",
        "\n",
        "* Memory-efficient implementations are important for practical use, especially on GPUs.\n",
        "\n",
        "## Connection to Other Architectures:\n",
        "* ResNets: DenseNet draws inspiration from ResNets' use of skip connections to improve information flow. However, DenseNet concatenates features instead of summing them, potentially mitigating information loss.\n",
        "\n",
        "* Stochastic Depth: There's an intriguing link between DenseNet and stochastic depth regularization in ResNets, as both create direct connections between non-adjacent layers.\n",
        "\n",
        "* Inception Networks: Like Inception networks, DenseNets concatenate features from different layers, but they are simpler and more efficient.\n",
        "\n",
        "\n",
        "## Conclusion:\n",
        "DenseNet offers a compelling approach to CNN design, emphasizing feature reuse and efficient information flow through dense connectivity. Its ability to achieve high accuracy with fewer parameters makes it an attractive choice for various computer vision tasks.\n",
        "\n",
        "\n",
        "***resource paper***: https://arxiv.org/abs/1608.06993v5"
      ],
      "metadata": {
        "id": "ioEsbz8DzTwE"
      }
    },
    {
      "cell_type": "markdown",
      "source": [
        "## Implementation"
      ],
      "metadata": {
        "id": "XRDkDqhq_kRB"
      }
    },
    {
      "cell_type": "code",
      "source": [
        "import torch\n",
        "import torch.nn as nn\n",
        "import torch.nn.functional as F"
      ],
      "metadata": {
        "id": "jbPtexmFzTI1"
      },
      "execution_count": 4,
      "outputs": []
    },
    {
      "cell_type": "code",
      "source": [
        "class TransitionLayer(nn.Module):\n",
        "  def __init__(self, in_channels, out_channels):\n",
        "    super(TransitionLayer, self).__init__()\n",
        "    self.transition = nn.Sequential(\n",
        "        nn.BatchNorm2d(in_channels),\n",
        "        nn.ReLU(inplace=True),\n",
        "        nn.Conv2d(in_channels, out_channels, kernel_size=1, stride=1, bias=False),\n",
        "        nn.AvgPool2d(kernel_size=2, stride=2)\n",
        "    )\n",
        "  def forward(self, x):\n",
        "    return self.transition(x)"
      ],
      "metadata": {
        "id": "kM37N3sg_qi3"
      },
      "execution_count": null,
      "outputs": []
    },
    {
      "cell_type": "code",
      "source": [
        "# define a transitionlayer\n",
        "transition_layer = TransitionLayer(128, 64)\n",
        "sample_input = torch.randn(1, 128, 32, 32)\n",
        "sample_output = transition_layer(sample_input)\n",
        "print(sample_output.shape)"
      ],
      "metadata": {
        "colab": {
          "base_uri": "https://localhost:8080/"
        },
        "id": "96V4mzromljG",
        "outputId": "07315894-3ad3-4e4d-b272-26a8fe699aaa"
      },
      "execution_count": null,
      "outputs": [
        {
          "output_type": "stream",
          "name": "stdout",
          "text": [
            "torch.Size([1, 64, 16, 16])\n"
          ]
        }
      ]
    },
    {
      "cell_type": "code",
      "source": [
        "class DenseLayer(nn.Module):\n",
        "  def __init__(self, in_channels, growth_rate, bn_size=4):\n",
        "    super(DenseLayer, self).__init__()\n",
        "    # 1x1 bottleneck layer\n",
        "    self.bn1 = nn.BatchNorm2d(in_channels)\n",
        "    self.relu = nn.ReLU(inplace=True)\n",
        "    self.conv1 = nn.Conv2d(in_channels, bn_size * growth_rate,\n",
        "                           kernel_size=1, stride=1, bias=False)\n",
        "\n",
        "    # 3x3 bottleneck layer\n",
        "    self.bn2 = nn.BatchNorm2d(bn_size * growth_rate)\n",
        "    self.conv2 = nn.Conv2d(bn_size * growth_rate, growth_rate, kernel_size=3,\n",
        "                              stride=1, padding=1, bias=False)\n",
        "  def forward(self, x):\n",
        "    out = self.conv1(self.relu(self.bn1(x)))\n",
        "    out = self.conv2(self.relu(self.bn2(out)))\n",
        "    return torch.cat([x, out], dim=1)"
      ],
      "metadata": {
        "id": "z43rwHFHrxtO"
      },
      "execution_count": null,
      "outputs": []
    },
    {
      "cell_type": "code",
      "source": [
        "in_channels = 64\n",
        "growth_rate = 32\n",
        "dense_layer = DenseLayer(in_channels, growth_rate=32)\n",
        "sample_input = torch.randn(1, in_channels, 32, 32)\n",
        "output = dense_layer(sample_input)\n",
        "print(output.shape)"
      ],
      "metadata": {
        "colab": {
          "base_uri": "https://localhost:8080/"
        },
        "id": "YwcoxSWaOYSw",
        "outputId": "4215b773-5134-4da2-cac2-fbc0b6ce861c"
      },
      "execution_count": null,
      "outputs": [
        {
          "output_type": "stream",
          "name": "stdout",
          "text": [
            "torch.Size([1, 96, 32, 32])\n"
          ]
        }
      ]
    },
    {
      "cell_type": "markdown",
      "source": [
        "## Dense Layer Architecture"
      ],
      "metadata": {
        "id": "i2o1msLMcXYv"
      }
    },
    {
      "cell_type": "code",
      "source": [
        "import networkx as nx\n",
        "import matplotlib.pyplot as plt\n",
        "def create_densenet():\n",
        "  G = nx.DiGraph()\n",
        "  # build nodes\n",
        "  nodes = ['Input', 'BN1', 'ReLU1', 'Conv1',\n",
        "           'BN2', 'ReLU2', 'Conv2', 'Concat']\n",
        "  G.add_nodes_from(nodes)\n",
        "  # build edges\n",
        "  edges = [('Input','BN1'),\n",
        "           ('BN1', 'ReLU1'),\n",
        "           ('ReLU1', 'Conv1'),\n",
        "           ('Conv1', 'BN2'),\n",
        "           ('BN2', 'ReLU2'),\n",
        "           ('ReLU2', 'Conv2'),\n",
        "           ('Conv2', 'Concat'),\n",
        "           ('Input', 'Concat')\n",
        "           ]\n",
        "  G.add_edges_from(edges)\n",
        "  # Create Layout\n",
        "  pos = nx.spring_layout(G)\n",
        "\n",
        "  # plot\n",
        "  plt.figure(figsize=(12,8))\n",
        "  nx.draw(G, pos, with_labels=True, node_color='lightblue', node_size=2000, font_size=10,\n",
        "          font_weight='bold', arrows=True, edge_color='gray')\n",
        "  plt.title('Dense Layer Architecture')\n",
        "  plt.show()\n",
        "\n",
        "create_densenet()\n"
      ],
      "metadata": {
        "colab": {
          "base_uri": "https://localhost:8080/",
          "height": 690
        },
        "id": "fp4OF5iuT-b7",
        "outputId": "258c85f9-cc65-46a0-8d0e-69598df222ab"
      },
      "execution_count": null,
      "outputs": [
        {
          "output_type": "display_data",
          "data": {
            "text/plain": [
              "<Figure size 1200x800 with 1 Axes>"
            ],
            "image/png": "[encoded data removed]"
          },
          "metadata": {}
        }
      ]
    },
    {
      "cell_type": "code",
      "source": [
        "class DenseBlock(nn.Module):\n",
        "  def __init__(self, num_layers, in_channels, growth_rate, bn_size):\n",
        "    super(DenseBlock, self).__init__()\n",
        "    self.layers = nn.ModuleList([\n",
        "        DenseLayer(in_channels + i*growth_rate, growth_rate, bn_size)\n",
        "        for i in range(num_layers)\n",
        "        ])\n",
        "    def forward(self, x):\n",
        "      for layer in self.layers:\n",
        "        x = layer(x)\n",
        "      return x"
      ],
      "metadata": {
        "id": "bqs2UxkOc_sq"
      },
      "execution_count": null,
      "outputs": []
    },
    {
      "cell_type": "code",
      "source": [
        "from graphviz import Digraph\n",
        "def create_denseblock_chart():\n",
        "  graph = Digraph(comment='DenseBlock Structure')\n",
        "  graph.attr(rankdir='LR')\n",
        "  # Add nodes\n",
        "  graph.node('input', 'Input', shape='box')\n",
        "  graph.node('layer1', 'Layer 1', shape='box')\n",
        "  graph.node('layer2', 'Layer 2', shape='box')\n",
        "  graph.node('layer3', 'layer 3', shape='box')\n",
        "  graph.node('layer4', 'layer4', shape='box')\n",
        "\n",
        "  # Add edges\n",
        "  # start with input\n",
        "  graph.edge('input', 'layer1')\n",
        "  graph.edge('input', 'layer2')\n",
        "  graph.edge('input', 'layer3')\n",
        "  graph.edge('input', 'layer4')\n",
        "  # start with layer1\n",
        "  graph.edge('layer1', 'layer2')\n",
        "  graph.edge('layer1', 'layer3')\n",
        "  graph.edge('layer1', 'layer4')\n",
        "  # start with layer2\n",
        "  graph.edge('layer2', 'layer3')\n",
        "  graph.edge('layer2', 'layer4')\n",
        "  # start with layer3\n",
        "  graph.edge('layer3', 'layer4')\n",
        "  return graph\n",
        "\n",
        "flowchart = create_denseblock_chart()\n",
        "flowchart\n"
      ],
      "metadata": {
        "id": "j1nrU5p_6Pp4",
        "outputId": "1301752d-2073-4ccd-8ad6-e9d4901e62a4",
        "colab": {
          "base_uri": "https://localhost:8080/",
          "height": 219
        }
      },
      "execution_count": null,
      "outputs": [
        {
          "output_type": "execute_result",
          "data": {
            "image/svg+xml": "<?xml version=\"1.0\" encoding=\"UTF-8\" standalone=\"no\"?>\n<!DOCTYPE svg PUBLIC \"-//W3C//DTD SVG 1.1//EN\"\n \"http://www.w3.org/Graphics/SVG/1.1/DTD/svg11.dtd\">\n<!-- Generated by graphviz version 2.43.0 (0)\n -->\n<!-- Title: %3 Pages: 1 -->\n<svg width=\"432pt\" height=\"148pt\"\n viewBox=\"0.00 0.00 432.00 148.31\" xmlns=\"http://www.w3.org/2000/svg\" xmlns:xlink=\"http://www.w3.org/1999/xlink\">\n<g id=\"graph0\" class=\"graph\" transform=\"scale(1 1) rotate(0) translate(4 144.31)\">\n<title>%3</title>\n<polygon fill=\"white\" stroke=\"transparent\" points=\"-4,4 -4,-144.31 428,-144.31 428,4 -4,4\"/>\n<!-- input -->\n<g id=\"node1\" class=\"node\">\n<title>input</title>\n<polygon fill=\"none\" stroke=\"black\" points=\"54,-103 0,-103 0,-67 54,-67 54,-103\"/>\n<text text-anchor=\"middle\" x=\"27\" y=\"-81.3\" font-family=\"Times,serif\" font-size=\"14.00\">Input</text>\n</g>\n<!-- layer1 -->\n<g id=\"node2\" class=\"node\">\n<title>layer1</title>\n<polygon fill=\"none\" stroke=\"black\" points=\"149,-36 90,-36 90,0 149,0 149,-36\"/>\n<text text-anchor=\"middle\" x=\"119.5\" y=\"-14.3\" font-family=\"Times,serif\" font-size=\"14.00\">Layer 1</text>\n</g>\n<!-- input&#45;&gt;layer1 -->\n<g id=\"edge1\" class=\"edge\">\n<title>input&#45;&gt;layer1</title>\n<path fill=\"none\" stroke=\"black\" d=\"M52.73,-66.69C62.99,-59.1 75.03,-50.18 85.99,-42.07\"/>\n<polygon fill=\"black\" stroke=\"black\" points=\"88.16,-44.82 94.11,-36.05 83.99,-39.19 88.16,-44.82\"/>\n</g>\n<!-- layer2 -->\n<g id=\"node3\" class=\"node\">\n<title>layer2</title>\n<polygon fill=\"none\" stroke=\"black\" points=\"244,-128 185,-128 185,-92 244,-92 244,-128\"/>\n<text text-anchor=\"middle\" x=\"214.5\" y=\"-106.3\" font-family=\"Times,serif\" font-size=\"14.00\">Layer 2</text>\n</g>\n<!-- input&#45;&gt;layer2 -->\n<g id=\"edge2\" class=\"edge\">\n<title>input&#45;&gt;layer2</title>\n<path fill=\"none\" stroke=\"black\" d=\"M54.18,-88.53C85.54,-92.76 138.36,-99.87 174.52,-104.75\"/>\n<polygon fill=\"black\" stroke=\"black\" points=\"174.33,-108.25 184.71,-106.12 175.26,-101.32 174.33,-108.25\"/>\n</g>\n<!-- layer3 -->\n<g id=\"node4\" class=\"node\">\n<title>layer3</title>\n<polygon fill=\"none\" stroke=\"black\" points=\"334,-82 280,-82 280,-46 334,-46 334,-82\"/>\n<text text-anchor=\"middle\" x=\"307\" y=\"-60.3\" font-family=\"Times,serif\" font-size=\"14.00\">layer 3</text>\n</g>\n<!-- input&#45;&gt;layer3 -->\n<g id=\"edge3\" class=\"edge\">\n<title>input&#45;&gt;layer3</title>\n<path fill=\"none\" stroke=\"black\" d=\"M54.15,-83.02C104.03,-79.26 212.84,-71.04 269.72,-66.74\"/>\n<polygon fill=\"black\" stroke=\"black\" points=\"270.01,-70.23 279.71,-65.99 269.48,-63.25 270.01,-70.23\"/>\n</g>\n<!-- layer4 -->\n<g id=\"node5\" class=\"node\">\n<title>layer4</title>\n<polygon fill=\"none\" stroke=\"black\" points=\"424,-105 370,-105 370,-69 424,-69 424,-105\"/>\n<text text-anchor=\"middle\" x=\"397\" y=\"-83.3\" font-family=\"Times,serif\" font-size=\"14.00\">layer4</text>\n</g>\n<!-- input&#45;&gt;layer4 -->\n<g id=\"edge4\" class=\"edge\">\n<title>input&#45;&gt;layer4</title>\n<path fill=\"none\" stroke=\"black\" d=\"M54.26,-96.9C65.19,-101.62 78.08,-106.89 90,-111 155.62,-133.63 175.22,-146.37 244,-137 285.23,-131.38 330.25,-115.22 360.51,-102.78\"/>\n<polygon fill=\"black\" stroke=\"black\" points=\"361.92,-105.98 369.79,-98.88 359.22,-99.52 361.92,-105.98\"/>\n</g>\n<!-- layer1&#45;&gt;layer2 -->\n<g id=\"edge5\" class=\"edge\">\n<title>layer1&#45;&gt;layer2</title>\n<path fill=\"none\" stroke=\"black\" d=\"M138.87,-36.18C152.89,-50.04 172.35,-69.3 187.89,-84.67\"/>\n<polygon fill=\"black\" stroke=\"black\" points=\"185.59,-87.32 195.16,-91.86 190.52,-82.34 185.59,-87.32\"/>\n</g>\n<!-- layer1&#45;&gt;layer3 -->\n<g id=\"edge6\" class=\"edge\">\n<title>layer1&#45;&gt;layer3</title>\n<path fill=\"none\" stroke=\"black\" d=\"M149.08,-25.09C181.54,-33.14 234.59,-46.29 269.89,-55.05\"/>\n<polygon fill=\"black\" stroke=\"black\" points=\"269.24,-58.49 279.79,-57.5 270.93,-51.7 269.24,-58.49\"/>\n</g>\n<!-- layer1&#45;&gt;layer4 -->\n<g id=\"edge7\" class=\"edge\">\n<title>layer1&#45;&gt;layer4</title>\n<path fill=\"none\" stroke=\"black\" d=\"M149,-15.42C191.12,-12.72 271.72,-11.85 334,-37 347.9,-42.61 361.14,-52.43 371.79,-61.89\"/>\n<polygon fill=\"black\" stroke=\"black\" points=\"369.7,-64.72 379.4,-68.98 374.47,-59.6 369.7,-64.72\"/>\n</g>\n<!-- layer2&#45;&gt;layer3 -->\n<g id=\"edge8\" class=\"edge\">\n<title>layer2&#45;&gt;layer3</title>\n<path fill=\"none\" stroke=\"black\" d=\"M244.13,-95.45C252.59,-91.15 261.94,-86.39 270.76,-81.91\"/>\n<polygon fill=\"black\" stroke=\"black\" points=\"272.37,-85.02 279.7,-77.37 269.2,-78.78 272.37,-85.02\"/>\n</g>\n<!-- layer2&#45;&gt;layer4 -->\n<g id=\"edge9\" class=\"edge\">\n<title>layer2&#45;&gt;layer4</title>\n<path fill=\"none\" stroke=\"black\" d=\"M244.1,-106.36C275.45,-102.36 325.81,-95.94 359.87,-91.6\"/>\n<polygon fill=\"black\" stroke=\"black\" points=\"360.4,-95.06 369.88,-90.33 359.52,-88.12 360.4,-95.06\"/>\n</g>\n<!-- layer3&#45;&gt;layer4 -->\n<g id=\"edge10\" class=\"edge\">\n<title>layer3&#45;&gt;layer4</title>\n<path fill=\"none\" stroke=\"black\" d=\"M334.4,-70.9C342.48,-73.01 351.51,-75.37 360.1,-77.62\"/>\n<polygon fill=\"black\" stroke=\"black\" points=\"359.36,-81.04 369.92,-80.18 361.13,-74.27 359.36,-81.04\"/>\n</g>\n</g>\n</svg>\n",
            "text/plain": [
              "<graphviz.graphs.Digraph at 0x795400371e70>"
            ]
          },
          "metadata": {},
          "execution_count": 15
        }
      ]
    },
    {
      "cell_type": "markdown",
      "source": [
        "## Connectivity within DenseNet\n",
        "1. Dense Connectivity:\n",
        "  * Each layer receives input from ALL preceding layers\n",
        "  * The feature maps from all previous layers are concatenated together\n",
        "  * This creates short paths for information and gradient flow\n",
        "2. Key Benefit:\n",
        "  * Stronger feature propagation\n",
        "  * Encourages feature reuse\n",
        "  * Reduces number of parameters\n",
        "  * Alleviates vanishing gradient problems\n",
        "3. Growth Rate:\n",
        "  * Each layer produces k new feature maps (k is the growth rate)\n",
        "  * Small growth rates work well as each layer can acess all previous feature maps\n",
        "4. Connectivity implementation\n",
        "  * The connection between different layers is primarily achieved through the concatenation operation in the DenseLayer's forward method.\n",
        "  * When construct DenseLayer in the DenseBlock's forward method, the for loop will accumulate these conncections"
      ],
      "metadata": {
        "id": "XWhz_eQnt9Q7"
      }
    },
    {
      "cell_type": "code",
      "source": [
        "# torch.cat\n",
        "sample_input = torch.randn(3,6,32,32)\n",
        "sample_output = torch.randn(3,2,32,32)\n",
        "torch.cat([sample_input, sample_output], dim=1).shape\n",
        "# Connection within DenseBlock\n",
        "class SimpleDenseLayer(nn.Module):\n",
        "  def __init__(self, in_channels, growth_rate):\n",
        "    super(SimpleDenseLayer, self).__init__()\n",
        "    self.conv = nn.Conv2d(in_channels, growth_rate, kernel_size=3, padding=1)\n",
        "  def forward(self, x):\n",
        "    conv_out = self.conv(x)\n",
        "    out = torch.cat([x, conv_out], dim=1)\n",
        "    print(f'The dimension of the input is {x.shape}')\n",
        "    print(f'The dimension of the convolutional output is {conv_out.shape}')\n",
        "    print(f'The dimension of the concatenated output is {out.shape}')\n",
        "    return out\n",
        "\n",
        "layer1 = SimpleDenseLayer(3, 2)\n",
        "sample_input = torch.randn(3,3,32,32)\n",
        "sample_output = layer1(sample_input)"
      ],
      "metadata": {
        "id": "akClhko7IPaI",
        "outputId": "e7ac9149-3f40-43f6-d3b2-b1b4850bac81",
        "colab": {
          "base_uri": "https://localhost:8080/"
        }
      },
      "execution_count": null,
      "outputs": [
        {
          "output_type": "stream",
          "name": "stdout",
          "text": [
            "The dimension of the input is torch.Size([3, 3, 32, 32])\n",
            "The dimension of the convolutional output is torch.Size([3, 2, 32, 32])\n",
            "The dimension of the concatenated output is torch.Size([3, 5, 32, 32])\n"
          ]
        }
      ]
    },
    {
      "cell_type": "code",
      "source": [
        "def demonstrate_connections():\n",
        "  input = torch.randn(3,3,32,32)\n",
        "  growth_rate = 2\n",
        "  layer1 = SimpleDenseLayer(3,2)\n",
        "  layer2 = SimpleDenseLayer(5,2)\n",
        "  layer3 = SimpleDenseLayer(7,2)\n",
        "\n",
        "  print(f'The initial input shape is {input.shape}')\n",
        "\n",
        "  output1 = layer1(input)\n",
        "  print(f'The layer 1 output shape is {output1.shape}')\n",
        "  output2 = layer2(output1)\n",
        "  print(f'The layer 2 output shape is {output2.shape}')\n",
        "  output3 = layer3(output2)\n",
        "  print(f'The layer 3 output shape is {output3.shape}')\n",
        "\n",
        "demonstrate_connections()"
      ],
      "metadata": {
        "id": "Q22ocdvIPDhX",
        "outputId": "40dd229d-5ead-4a32-b809-4592ac438cdb",
        "colab": {
          "base_uri": "https://localhost:8080/"
        }
      },
      "execution_count": null,
      "outputs": [
        {
          "output_type": "stream",
          "name": "stdout",
          "text": [
            "The initial input shape is torch.Size([3, 3, 32, 32])\n",
            "The dimension of the input is torch.Size([3, 3, 32, 32])\n",
            "The dimension of the convolutional output is torch.Size([3, 2, 32, 32])\n",
            "The dimension of the concatenated output is torch.Size([3, 5, 32, 32])\n",
            "The layer 1 output shape is torch.Size([3, 5, 32, 32])\n",
            "The dimension of the input is torch.Size([3, 5, 32, 32])\n",
            "The dimension of the convolutional output is torch.Size([3, 2, 32, 32])\n",
            "The dimension of the concatenated output is torch.Size([3, 7, 32, 32])\n",
            "The layer 2 output shape is torch.Size([3, 7, 32, 32])\n",
            "The dimension of the input is torch.Size([3, 7, 32, 32])\n",
            "The dimension of the convolutional output is torch.Size([3, 2, 32, 32])\n",
            "The dimension of the concatenated output is torch.Size([3, 9, 32, 32])\n",
            "The layer 3 output shape is torch.Size([3, 9, 32, 32])\n"
          ]
        }
      ]
    },
    {
      "cell_type": "code",
      "source": [
        "class DenseNet(nn.Module):\n",
        "  def __init__(self, growth_rate=32, block_config=(6,12,24,16), num_init_features=64, bn_size=4, compression=0.5, num_classes=1000):\n",
        "    super(DenseNet, self).__init__()\n",
        "    # first convolutional layer\n",
        "    self.features = nn.Sequential(\n",
        "        nn.Conv2d(3, num_init_features, kernel_size=7, stride=2, padding=3, bias=False),\n",
        "        nn.BatchNorm2d(num_init_features),\n",
        "        nn.ReLU(inplace=True),\n",
        "        nn.MaxPool2d(kernel_size=3, stride=2, padding=1)\n",
        "    )\n",
        "    # dense blocks\n",
        "    num_features = num_init_features\n",
        "    for i, num_layers in enumerate(block_config):\n",
        "      block = DenseBlock(num_layers, num_features, growth_rate, bn_size)\n",
        "      self.features.add_module(f'denseblock{i+1}', block)\n",
        "      num_features += num_layers * growth_rate\n",
        "\n",
        "      if i != len(block_config) - 1:\n",
        "        num_out_features = int(num_features * compression)\n",
        "        trans = TransitionLayer(num_features, num_out_features)\n",
        "        self.features.add_module(f'transition{i+1}', trans)\n",
        "        num_features = num_out_features\n",
        "\n",
        "    # final batch norm and classifier\n",
        "    self.features.add_module('final_bn', nn.BatchNorm2d(num_features))\n",
        "    self.classifier = nn.Linear(num_features, num_classes)\n",
        "\n",
        "  def forward(self, x):\n",
        "    features = self.features(x)\n",
        "    out = F.relu(features, inplace=True)\n",
        "    out = F.avg_pool2d(out, kernel_size=7, stride=1).view(features.size(0), -1)\n",
        "    out = self.classifier(out)\n",
        "    return out\n"
      ],
      "metadata": {
        "id": "WVe16sWaPDjd"
      },
      "execution_count": 6,
      "outputs": []
    },
    {
      "cell_type": "markdown",
      "source": [
        "## Breakdown of `num_features += num_layers * growth_rate`\n",
        "1. `num_features`: This variable keeps tracks of the number of input feature channels in the for loop build blocks with different layer numbers.\n",
        "2. `num_layers`: Pre-defined parameters that controls how many layers within each block.\n",
        "3. `growth_rate`: A universal hyperparameter across different blocks determines how many new features generated after each dense layer. however, the growth rate can be set as a random number within a specific range. This can be a useful technique for experimenting with different network configuration and finding a potentially optimal growth rate."
      ],
      "metadata": {
        "id": "ioqW4J46al4I"
      }
    },
    {
      "cell_type": "markdown",
      "source": [
        "## How the growth rate impact the network performance\n",
        "\n",
        "1. **Model Capacity**: The growth rate directly determines the number of feature maps (channels) produced by each dense layer. A higher growth rate leads to a larger overall model capacity, as more feature maps are concatenated at each transition layer. This increased capacity allows the model to learn more complex representations.\n",
        "\n",
        "2. **Parameter Efficiency**: While a higher growth rate increases model capacity, it also increases the total number of parameters in the model. This can lead to higher memory and computational requirements during training and inference. Finding the right balance between capacity and parameter efficiency is important.\n",
        "\n",
        "3. **Representational Power**: The growth rate affects the model's ability to capture different types of features. A higher growth rate allows the model to learn more diverse and specialized features, which can improve performance on complex tasks. However, too high of a growth rate may lead to overfitting.\n",
        "\n",
        "4. **Convergence Speed**: The growth rate can impact the training convergence speed. A lower growth rate generally leads to slower convergence, as the model has less capacity to fit the training data. Conversely, a higher growth rate may cause the model to converge faster but potentially overfit.\n",
        "\n",
        "5. **Inference Latency**: A higher growth rate results in a larger model size, which can increase the inference latency, especially on resource-constrained devices. This is an important consideration for real-time or embedded applications.\n",
        "\n",
        "6. **Generalization**: The growth rate can affect the model's ability to generalize to new, unseen data. A growth rate that is too high may lead to overfitting, while a rate that is too low may limit the model's ability to learn the necessary representations.\n",
        "\n",
        "In practice, the optimal growth rate often needs to be determined empirically, as it depends on factors such as the dataset size and complexity, the desired model performance, and the available computational resources. Common growth rates used in DenseNet range from 12 to 32, but the best value can vary significantly based on the specific use case.\n"
      ],
      "metadata": {
        "id": "0e5xF7Bdf_S1"
      }
    },
    {
      "cell_type": "code",
      "source": [],
      "metadata": {
        "id": "XcglMLJ7Zaat"
      },
      "execution_count": null,
      "outputs": []
    },
    {
      "cell_type": "markdown",
      "source": [
        "## Pre-activation\n",
        "\n",
        "The order of operations in the transition layer (BN → ReLU → Conv rather than Conv → BN → ReLU) follows a principle called \"pre-activation\" that was introduced in the paper \"Identity Mappings in Deep Residual Networks\" by He et al.\n",
        "Here are the key reasons:\n",
        "\n",
        "* Better Gradient Flow\n",
        "\n",
        "  * When the activation (ReLU) comes before the convolution, it helps prevent the gradients from vanishing during backpropagation\n",
        "  * The pre-activation ensures that the gradient can flow through the network without being diminished by dying ReLU units and network can recover even if some ReLU units are initially dead\n",
        "\n",
        "* Better Regularization\n",
        "  * Batch normalization before ReLU helps normalize the input distribution before applying the non-linearity\n",
        "  * This makes the optimization landscape smoother and helps with training\n",
        "\n",
        "* Improved Feature Refinement\n",
        "  * The normalized and activated features are then processed by the convolution layer\n",
        "  * This means the convolution layer receives cleaner, more stable inputs to work with"
      ],
      "metadata": {
        "id": "IqkQnsYSDUb5"
      }
    },
    {
      "cell_type": "code",
      "source": [
        "for i in range(6):\n",
        "  print(i)"
      ],
      "metadata": {
        "id": "o8O2kcYhC8Kh",
        "outputId": "bcc7a6ae-a7c3-45b2-a203-ef26e42410a4",
        "colab": {
          "base_uri": "https://localhost:8080/"
        }
      },
      "execution_count": 2,
      "outputs": [
        {
          "output_type": "stream",
          "name": "stdout",
          "text": [
            "0\n",
            "1\n",
            "2\n",
            "3\n",
            "4\n",
            "5\n"
          ]
        }
      ]
    },
    {
      "cell_type": "code",
      "source": [],
      "metadata": {
        "id": "Khjfhfe3S_hW"
      },
      "execution_count": null,
      "outputs": []
    }
  ]
}